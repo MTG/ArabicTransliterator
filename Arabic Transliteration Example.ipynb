{
 "cells": [
  {
   "cell_type": "markdown",
   "source": [
    "# Arabic Transliteration \n",
    "This notebook demonstrates a use example of the Arabic Transliterator module compiled by the MTG. Please download and install the latest module version. The phrase used here are very short and are just for demonstration. For a more complicated use-case of the module invoving the transliteration of structured tsv files, please refer to the sanaa transliteration notebooks of the https://github.com/MTG/arab-andalusian-music/tree/master/sanaa_lyrics/transliteration_guide\n",
    "\n",
    "## Description\n",
    "This module reads phrases from a csv file column and creates another file with the transliterations. \n",
    "Original and transliterated versions of the phrases are displayed side by side.\n",
    "Phrases must NOT contain numbers"
   ],
   "metadata": {}
  },
  {
   "cell_type": "code",
   "execution_count": 1,
   "source": [
    "from arabic_transliterator import ALA_LC_Transliterator\r\n",
    "from mishkal.tashkeel import TashkeelClass\r\n",
    "import pandas as pd\r\n",
    "from IPython.display import display, HTML"
   ],
   "outputs": [],
   "metadata": {}
  },
  {
   "cell_type": "code",
   "execution_count": 41,
   "source": [
    "inputfile1 = 'phrases.csv'\r\n",
    "inputfile2 = 'nouns.csv'"
   ],
   "outputs": [],
   "metadata": {}
  },
  {
   "cell_type": "code",
   "execution_count": 2,
   "source": [
    "transliterator = ALA_LC_Transliterator()"
   ],
   "outputs": [],
   "metadata": {}
  },
  {
   "cell_type": "code",
   "execution_count": 4,
   "source": [
    "def transliterate(text, vocalize=True):\r\n",
    "    voc = text\r\n",
    "    if vocalize:\r\n",
    "        vocalizer=TashkeelClass()\r\n",
    "        voc = vocalizer.tashkeel(text)\r\n",
    "    return transliterator.do(voc.strip())\r\n",
    "\r\n",
    "def transliterate_df(inputdf):\r\n",
    "    outputdf = pd.DataFrame(columns = ['transliterations'])\r\n",
    "    for i, row in inputdf.iterrows():\r\n",
    "        for elem in row: \r\n",
    "            t = transliterate(elem.strip(), vocalize=True)\r\n",
    "            t_df = pd.DataFrame({'transliterations' : [t]}, index=[i])\r\n",
    "            outputdf = outputdf.append(t_df)\r\n",
    "    return outputdf"
   ],
   "outputs": [],
   "metadata": {}
  },
  {
   "cell_type": "code",
   "execution_count": 44,
   "source": [
    "inputdf = pd.read_csv(inputfile1)\r\n",
    "outputdf = transliterate_df(inputdf)\r\n",
    "d = pd.concat([inputdf, outputdf], axis=1)\r\n",
    "display(d)"
   ],
   "outputs": [
    {
     "output_type": "display_data",
     "data": {
      "text/html": [
       "<div>\n",
       "<style scoped>\n",
       "    .dataframe tbody tr th:only-of-type {\n",
       "        vertical-align: middle;\n",
       "    }\n",
       "\n",
       "    .dataframe tbody tr th {\n",
       "        vertical-align: top;\n",
       "    }\n",
       "\n",
       "    .dataframe thead th {\n",
       "        text-align: right;\n",
       "    }\n",
       "</style>\n",
       "<table border=\"1\" class=\"dataframe\">\n",
       "  <thead>\n",
       "    <tr style=\"text-align: right;\">\n",
       "      <th></th>\n",
       "      <th>phrase</th>\n",
       "      <th>transliterations</th>\n",
       "    </tr>\n",
       "  </thead>\n",
       "  <tbody>\n",
       "    <tr>\n",
       "      <th>0</th>\n",
       "      <td>إذا كنت ذا عشق ووجد ورقة</td>\n",
       "      <td>idhā kannat dhā ‘ishqun wawujid wariqah</td>\n",
       "    </tr>\n",
       "    <tr>\n",
       "      <th>1</th>\n",
       "      <td>فنغمته تحيي النفوس وتشتفي</td>\n",
       "      <td>fanaghmatuh tuḥayyī al-nufūs watashtaffī</td>\n",
       "    </tr>\n",
       "    <tr>\n",
       "      <th>2</th>\n",
       "      <td>قُلْتُ أَهَذَا وَلَيْسَ يَكْفِي</td>\n",
       "      <td>qult ahadhā walays yakfī</td>\n",
       "    </tr>\n",
       "    <tr>\n",
       "      <th>3</th>\n",
       "      <td>يا من على طيف الخيال أحالني</td>\n",
       "      <td>yā man ‘alá ṭayf al-khayāl aḥālanī</td>\n",
       "    </tr>\n",
       "  </tbody>\n",
       "</table>\n",
       "</div>"
      ],
      "text/plain": [
       "                            phrase                          transliterations\n",
       "0         إذا كنت ذا عشق ووجد ورقة   idhā kannat dhā ‘ishqun wawujid wariqah\n",
       "1        فنغمته تحيي النفوس وتشتفي  fanaghmatuh tuḥayyī al-nufūs watashtaffī\n",
       "2  قُلْتُ أَهَذَا وَلَيْسَ يَكْفِي                  qult ahadhā walays yakfī\n",
       "3      يا من على طيف الخيال أحالني        yā man ‘alá ṭayf al-khayāl aḥālanī"
      ]
     },
     "metadata": {}
    }
   ],
   "metadata": {}
  },
  {
   "cell_type": "code",
   "execution_count": 46,
   "source": [
    "inputdf = pd.read_csv(inputfile2)\r\n",
    "outputdf = transliterate_df(inputdf)\r\n",
    "d = pd.concat([inputdf, outputdf], axis=1)\r\n",
    "display(d[:20])"
   ],
   "outputs": [
    {
     "output_type": "display_data",
     "data": {
      "text/html": [
       "<div>\n",
       "<style scoped>\n",
       "    .dataframe tbody tr th:only-of-type {\n",
       "        vertical-align: middle;\n",
       "    }\n",
       "\n",
       "    .dataframe tbody tr th {\n",
       "        vertical-align: top;\n",
       "    }\n",
       "\n",
       "    .dataframe thead th {\n",
       "        text-align: right;\n",
       "    }\n",
       "</style>\n",
       "<table border=\"1\" class=\"dataframe\">\n",
       "  <thead>\n",
       "    <tr style=\"text-align: right;\">\n",
       "      <th></th>\n",
       "      <th>الاستهلال</th>\n",
       "      <th>transliterations</th>\n",
       "    </tr>\n",
       "  </thead>\n",
       "  <tbody>\n",
       "    <tr>\n",
       "      <th>0</th>\n",
       "      <td>الحجاز الكبير</td>\n",
       "      <td>al-ḥjāz al-kabīr</td>\n",
       "    </tr>\n",
       "    <tr>\n",
       "      <th>1</th>\n",
       "      <td>إنشاد</td>\n",
       "      <td>inshād</td>\n",
       "    </tr>\n",
       "    <tr>\n",
       "      <th>2</th>\n",
       "      <td>احمد أقريش</td>\n",
       "      <td>iḥmad aquraysh</td>\n",
       "    </tr>\n",
       "    <tr>\n",
       "      <th>3</th>\n",
       "      <td>احمد البردعي</td>\n",
       "      <td>iḥmad al-barda‘ī</td>\n",
       "    </tr>\n",
       "    <tr>\n",
       "      <th>4</th>\n",
       "      <td>احمد الشنتوف</td>\n",
       "      <td>iḥmad al-shntūf</td>\n",
       "    </tr>\n",
       "    <tr>\n",
       "      <th>5</th>\n",
       "      <td>احمد المرابط</td>\n",
       "      <td>iḥmad al-marābiṭ</td>\n",
       "    </tr>\n",
       "    <tr>\n",
       "      <th>6</th>\n",
       "      <td>احمد الورديغي</td>\n",
       "      <td>iḥmad al-ūrdīghī</td>\n",
       "    </tr>\n",
       "    <tr>\n",
       "      <th>7</th>\n",
       "      <td>احمد بنعياد</td>\n",
       "      <td>iḥmad bn‘yād</td>\n",
       "    </tr>\n",
       "    <tr>\n",
       "      <th>8</th>\n",
       "      <td>احمد حرازم</td>\n",
       "      <td>iḥmad ḥrāzm</td>\n",
       "    </tr>\n",
       "    <tr>\n",
       "      <th>9</th>\n",
       "      <td>استوديو خاص</td>\n",
       "      <td>stūdīū khāṣṣ</td>\n",
       "    </tr>\n",
       "    <tr>\n",
       "      <th>10</th>\n",
       "      <td>الأمين الأكرمي</td>\n",
       "      <td>al-amīn al-kramī</td>\n",
       "    </tr>\n",
       "    <tr>\n",
       "      <th>11</th>\n",
       "      <td>الإذاعة والتلفزة الوطنية</td>\n",
       "      <td>al-dhā‘ah wal-talfazah al-waṭanīyah</td>\n",
       "    </tr>\n",
       "    <tr>\n",
       "      <th>12</th>\n",
       "      <td>الإنشاد</td>\n",
       "      <td>al-inshād</td>\n",
       "    </tr>\n",
       "    <tr>\n",
       "      <th>13</th>\n",
       "      <td>الاستهلال</td>\n",
       "      <td>al-istihlāl</td>\n",
       "    </tr>\n",
       "    <tr>\n",
       "      <th>14</th>\n",
       "      <td>الاصبهان</td>\n",
       "      <td>al-āṣbhān</td>\n",
       "    </tr>\n",
       "    <tr>\n",
       "      <th>15</th>\n",
       "      <td>الانصراف</td>\n",
       "      <td>al-inṣirāf</td>\n",
       "    </tr>\n",
       "    <tr>\n",
       "      <th>16</th>\n",
       "      <td>البيانو</td>\n",
       "      <td>al-biyānū</td>\n",
       "    </tr>\n",
       "    <tr>\n",
       "      <th>17</th>\n",
       "      <td>التواشي السبع لطبع المشرقي</td>\n",
       "      <td>al-tūāshī al-sab‘ liṭubi‘ al-mashriqī</td>\n",
       "    </tr>\n",
       "    <tr>\n",
       "      <th>18</th>\n",
       "      <td>التوشية الأولى</td>\n",
       "      <td>al-tawshīh al-ūlá</td>\n",
       "    </tr>\n",
       "    <tr>\n",
       "      <th>19</th>\n",
       "      <td>التوشية الأولى لطبع المشرقي</td>\n",
       "      <td>al-tawshīh al-ūlá liṭubi‘ al-mashriqī</td>\n",
       "    </tr>\n",
       "  </tbody>\n",
       "</table>\n",
       "</div>"
      ],
      "text/plain": [
       "                      الاستهلال                       transliterations\n",
       "0                 الحجاز الكبير                       al-ḥjāz al-kabīr\n",
       "1                         إنشاد                                 inshād\n",
       "2                    احمد أقريش                         iḥmad aquraysh\n",
       "3                  احمد البردعي                       iḥmad al-barda‘ī\n",
       "4                  احمد الشنتوف                        iḥmad al-shntūf\n",
       "5                  احمد المرابط                       iḥmad al-marābiṭ\n",
       "6                 احمد الورديغي                       iḥmad al-ūrdīghī\n",
       "7                   احمد بنعياد                           iḥmad bn‘yād\n",
       "8                    احمد حرازم                            iḥmad ḥrāzm\n",
       "9                   استوديو خاص                           stūdīū khāṣṣ\n",
       "10               الأمين الأكرمي                       al-amīn al-kramī\n",
       "11     الإذاعة والتلفزة الوطنية    al-dhā‘ah wal-talfazah al-waṭanīyah\n",
       "12                      الإنشاد                              al-inshād\n",
       "13                    الاستهلال                            al-istihlāl\n",
       "14                     الاصبهان                              al-āṣbhān\n",
       "15                     الانصراف                             al-inṣirāf\n",
       "16                      البيانو                              al-biyānū\n",
       "17   التواشي السبع لطبع المشرقي  al-tūāshī al-sab‘ liṭubi‘ al-mashriqī\n",
       "18               التوشية الأولى                      al-tawshīh al-ūlá\n",
       "19  التوشية الأولى لطبع المشرقي  al-tawshīh al-ūlá liṭubi‘ al-mashriqī"
      ]
     },
     "metadata": {}
    }
   ],
   "metadata": {}
  },
  {
   "cell_type": "code",
   "execution_count": 11,
   "source": [
    "mixed_text = \"Quran: رحمن ވަންތަ رحيم ވަންތަ اللَّه ގެ اسم ފުޅުން ފަށައިގަންނަމެވެ.\""
   ],
   "outputs": [],
   "metadata": {}
  },
  {
   "cell_type": "code",
   "execution_count": 13,
   "source": [
    "# The following does not work if the text has non-Arabic chars\r\n",
    "transliterate(mixed_text)"
   ],
   "outputs": [
    {
     "output_type": "execute_result",
     "data": {
      "text/plain": [
       "'[UNK][UNK][UNK][UNK][UNK][UNK]raḥimn [UNK] [UNK] [UNK] [UNK] [UNK] [UNK] raḥīm [UNK] [UNK] [UNK] [UNK] [UNK] [UNK] al-lah [UNK] [UNK] āism [UNK] [UNK] [UNK] [UNK] [UNK] [UNK] [UNK] [UNK] [UNK] [UNK] [UNK] [UNK] [UNK] [UNK] [UNK] [UNK] [UNK] [UNK] [UNK] [UNK] [UNK] [UNK].'"
      ]
     },
     "metadata": {},
     "execution_count": 13
    }
   ],
   "metadata": {}
  },
  {
   "cell_type": "code",
   "execution_count": 9,
   "source": [
    "import re\r\n",
    "def transliterate_mixed(text):\r\n",
    "    matches = re.findall(\"[\\u0600-\\u06FF\\u0750-\\u077F\\u08A0-\\u08FF]+\", text)\r\n",
    "    for arabic_match in matches:\r\n",
    "        roman_match = transliterate(arabic_match)\r\n",
    "        text = re.sub(arabic_match, roman_match, text, 1)\r\n",
    "    return text"
   ],
   "outputs": [],
   "metadata": {}
  },
  {
   "cell_type": "code",
   "execution_count": 12,
   "source": [
    "transliterate_mixed(mixed_text)"
   ],
   "outputs": [
    {
     "output_type": "execute_result",
     "data": {
      "text/plain": [
       "'Quran: raḥimn ވަންތަ raḥīmun ވަންތަ al-lah ގެ ismun ފުޅުން ފަށައިގަންނަމެވެ.'"
      ]
     },
     "metadata": {},
     "execution_count": 12
    }
   ],
   "metadata": {}
  }
 ],
 "metadata": {
  "kernelspec": {
   "name": "python3",
   "display_name": "Python 3.7.4 64-bit"
  },
  "language_info": {
   "codemirror_mode": {
    "name": "ipython",
    "version": 3
   },
   "file_extension": ".py",
   "mimetype": "text/x-python",
   "name": "python",
   "nbconvert_exporter": "python",
   "pygments_lexer": "ipython3",
   "version": "3.7.4"
  },
  "interpreter": {
   "hash": "0600588c3b5f4418cbe7b5ebc6825b479f3bc010269d8b60d75058cdd010adfe"
  }
 },
 "nbformat": 4,
 "nbformat_minor": 2
}